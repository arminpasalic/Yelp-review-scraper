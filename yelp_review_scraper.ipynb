{
 "cells": [
  {
   "cell_type": "markdown",
   "metadata": {},
   "source": [
    "# Packages"
   ]
  },
  {
   "cell_type": "markdown",
   "metadata": {},
   "source": [
    "Updated: 1 december, 2023\n",
    "\n",
    "\n",
    "\n",
    "By Armin Pasalic\n",
    "\n",
    "https://arminpasalic.github.io"
   ]
  },
  {
   "cell_type": "code",
   "execution_count": 1,
   "metadata": {},
   "outputs": [],
   "source": [
    "from selenium import webdriver\n",
    "from selenium.webdriver.chrome.service import Service\n",
    "import pandas as pd\n",
    "from selenium.webdriver.common.by import By\n",
    "import time\n",
    "from selenium.webdriver.chrome.service import Service\n",
    "from selenium.webdriver.common.by import By\n",
    "from selenium.webdriver.common.action_chains import ActionChains\n",
    "from selenium.webdriver.support.ui import WebDriverWait\n",
    "from selenium.webdriver.support import expected_conditions as EC\n",
    "from selenium.common.exceptions import NoSuchElementException, TimeoutException\n",
    "\n",
    "import time"
   ]
  },
  {
   "cell_type": "markdown",
   "metadata": {},
   "source": [
    "---"
   ]
  },
  {
   "cell_type": "markdown",
   "metadata": {},
   "source": [
    "# Scraping"
   ]
  },
  {
   "cell_type": "code",
   "execution_count": 2,
   "metadata": {},
   "outputs": [],
   "source": [
    "#########################################################################################\n",
    "#### INPUT URL OF THE RESTAURANT:\n",
    "#########################################################################################\n",
    "base_url = \"https://www.yelp.com/biz/restaurant-tight-københavn-k\""
   ]
  },
  {
   "cell_type": "code",
   "execution_count": null,
   "metadata": {},
   "outputs": [],
   "source": [
    "# Setting up the Chrome WebDriver\n",
    "options = webdriver.ChromeOptions()\n",
    "options.add_argument(\"--headless\")  # Running in headless mode\n",
    "options.add_argument(\"--no-sandbox\")\n",
    "options.add_argument(\"--disable-dev-shm-usage\")\n",
    "\n",
    "# Initialize the WebDriver\n",
    "driver = webdriver.Chrome(options=options)\n",
    "\n",
    "# Initialization for multiple pages\n",
    "\n",
    "offset = 0\n",
    "offset_increment = 10  # Assuming each page shows 10 items\n",
    "\n",
    "# Initialize lists for data storage\n",
    "restaurant_name = []\n",
    "total_rating_reviews = []\n",
    "name_location_data = []\n",
    "star_rating_data = []\n",
    "comment_data = []\n",
    "\n",
    "#####################################################################################################\n",
    "######## GET H1 (TITLE OF RESTAURANT) - AND TOTAL AMOUNT OF REVIEWS + AVERAGE RATING FROM ALL REVIEWS:\n",
    "\n",
    "# Load the first page to get the H1 text\n",
    "driver.get(base_url)\n",
    "time.sleep(15)  # Wait for the page to load\n",
    "# Extracting the H1 text\n",
    "restaurant_name.append(driver.find_element(By.TAG_NAME, \"h1\").text)\n",
    "\n",
    "# Now, locate the element by its href attribute\n",
    "reviews_element = driver.find_element(By.CSS_SELECTOR, \"span.css-1x9ee72 a.css-19v1rkv\")\n",
    "total_rating_reviews.append(reviews_element.text)\n",
    "\n",
    "#####################################################################################################\n",
    "######## EXTRACT REVIEWS::::\n",
    "while True:\n",
    "    # Construct the URL based on whether it's the first page or subsequent pages\n",
    "    page_url = base_url if offset == 0 else f\"{base_url}?start={offset}\"    # sometimes it is: &start= or ?start= \n",
    "    driver.get(page_url)\n",
    "    print(f\"Scraping from: {page_url}\")\n",
    "    \n",
    "    time.sleep(15) # ADJUST TIME!!!\n",
    "    # Scrape the data from this page\n",
    "    base_xpath = '//*[@id=\"reviews\"]/section/div[2]/ul/li'\n",
    "    list_items = driver.find_elements(By.XPATH, base_xpath)\n",
    "    print(f\"located comments: \"{len(list_items)}\\n\")\n",
    "\n",
    "    for item_number, _ in enumerate(list_items, start=1):\n",
    "        # For the name and location\n",
    "        xpath_name_location = f'({base_xpath})[{item_number}]/div/div[1]/div/div[1]/div/div/div[2]/div[1]'\n",
    "        name_location = driver.find_element(By.XPATH, xpath_name_location).text\n",
    "        name_location_data.append(name_location)\n",
    "        \n",
    "        # For the star rating\n",
    "        xpath_rating = f'({base_xpath})[{item_number}]//div[contains(@class, \"css-14g69b3\")]'\n",
    "        star_rating = driver.find_element(By.XPATH, xpath_rating).get_attribute('aria-label')\n",
    "        star_rating_data.append(star_rating)\n",
    "\n",
    "        # For the comment\n",
    "        xpath_comment = f'({base_xpath})[{item_number}]//span[contains(@class, \"raw__09f24__T4Ezm\")]'\n",
    "        comment = driver.find_element(By.XPATH, xpath_comment).text\n",
    "        comment_data.append(comment)\n",
    "\n",
    "    # Check if the expected number of items is present\n",
    "    if len(list_items) < offset_increment:\n",
    "        break\n",
    "\n",
    "    # Increment the offset for the next page\n",
    "    offset += offset_increment\n",
    "\n",
    "# Close the browser\n",
    "driver.quit()"
   ]
  },
  {
   "cell_type": "markdown",
   "metadata": {},
   "source": [
    "---"
   ]
  },
  {
   "cell_type": "markdown",
   "metadata": {},
   "source": [
    "# Process data"
   ]
  },
  {
   "cell_type": "code",
   "execution_count": null,
   "metadata": {},
   "outputs": [],
   "source": [
    "# Create a DataFrame from the lists\n",
    "df = pd.DataFrame({\n",
    "    'Name and Location': name_location_data,\n",
    "    'Star Rating': star_rating_data,\n",
    "    'Comment': comment_data\n",
    "})\n",
    "\n",
    "# Splitting the 'Name and Location' column into two parts\n",
    "df[['Name and Location', 'Location']] = df['Name and Location'].str.split('\\n', expand=True)\n",
    "df = df.rename(columns={'Name and Location': 'User'})\n",
    "\n",
    "# Add 'restaurant_name' and 'total_rating_reviews' to the DataFrame\n",
    "df['Restaurant Name'] = restaurant_name * len(df)\n",
    "df['Total Rating & Reviews'] = total_rating_reviews * len(df)\n",
    "\n",
    "df.to_csv('restaurant-tight-københavn-k_YELP-REVIEWS.csv', index=False) #change for the restaurant you are scraping!\n",
    "# Display the DataFrame\n",
    "df"
   ]
  }
 ],
 "metadata": {
  "kernelspec": {
   "display_name": "core",
   "language": "python",
   "name": "python3"
  },
  "language_info": {
   "codemirror_mode": {
    "name": "ipython",
    "version": 3
   },
   "file_extension": ".py",
   "mimetype": "text/x-python",
   "name": "python",
   "nbconvert_exporter": "python",
   "pygments_lexer": "ipython3",
   "version": "3.9.17"
  }
 },
 "nbformat": 4,
 "nbformat_minor": 2
}
